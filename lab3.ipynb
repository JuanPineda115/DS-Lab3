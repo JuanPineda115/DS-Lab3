{
 "cells": [
  {
   "cell_type": "markdown",
   "metadata": {},
   "source": [
    "Martín Amado - 19020\n",
    "Juan Pablo Pineda - 19087\n",
    "\n",
    "Referencia para análisis de datos: https://www.kaggle.com/competitions/digit-recognizer/data?select=test.csv"
   ]
  },
  {
   "cell_type": "code",
   "execution_count": null,
   "metadata": {},
   "outputs": [],
   "source": [
    "import pandas as pd\r\n",
    "import matplotlib.pyplot as plt\r\n",
    "import seaborn as sns\r\n",
    "import numpy as np\r\n",
    "from sklearn.preprocessing import StandardScaler\r\n",
    "from keras.models import Sequential\r\n",
    "from keras.layers import Dense\r\n",
    "from keras.layers import LSTM\r\n",
    "from scipy import stats\r\n",
    "import matplotlib.cm as cm\r\n",
    "np.warnings.filterwarnings('ignore', category=np.VisibleDeprecationWarning)\r\n",
    "from factor_analyzer import calculate_bartlett_sphericity, calculate_kmo\r\n",
    "\r\n",
    "from sklearn.decomposition import PCA\r\n",
    "from sklearn.pipeline import make_pipeline\r\n",
    "from statsmodels.tsa.statespace.sarimax import SARIMAX\r\n",
    "from statsmodels.tsa.seasonal import seasonal_decompose\r\n",
    "from statsmodels.tsa.stattools import adfuller\r\n",
    "from apyori import apriori"
   ]
  },
  {
   "cell_type": "markdown",
   "metadata": {},
   "source": [
    "# Ejercicio 1"
   ]
  },
  {
   "cell_type": "markdown",
   "metadata": {},
   "source": [
    "# Ejercicio 2"
   ]
  },
  {
   "cell_type": "markdown",
   "metadata": {},
   "source": [
    "## Parte 1: Series de tiempo"
   ]
  },
  {
   "cell_type": "markdown",
   "metadata": {},
   "source": [
    "### Consumos Diesel"
   ]
  },
  {
   "cell_type": "markdown",
   "metadata": {},
   "source": [
    "Recaudacion y limpieza de datos"
   ]
  },
  {
   "cell_type": "code",
   "execution_count": null,
   "metadata": {},
   "outputs": [],
   "source": [
    "consumption = pd.read_excel('./CONSUMO-2022-05.xlsx', skiprows=6)\r\n",
    "consumption = consumption[['Fecha', 'Diesel']]\r\n",
    "#omitimos los datos despues del 269 ya que no aportan relevancia\r\n",
    "consumption = consumption[:269]"
   ]
  },
  {
   "cell_type": "markdown",
   "metadata": {},
   "source": [
    "Desarrollo de la seria de tiempo"
   ]
  },
  {
   "cell_type": "code",
   "execution_count": null,
   "metadata": {},
   "outputs": [],
   "source": [
    "trainSize = int(len(consumption) * 0.7)\r\n",
    "trainConsumos = consumption[0:trainSize]\r\n",
    "testConsumos = consumption[trainSize:len(consumption)]\r\n",
    "trainConsumos = trainConsumos.set_index(['Fecha'])\r\n",
    "testConsumos = testConsumos.set_index(['Fecha'])"
   ]
  },
  {
   "cell_type": "code",
   "execution_count": null,
   "metadata": {},
   "outputs": [],
   "source": [
    "tsDiesel = trainConsumos['Diesel']\r\n",
    "mediaMovil = tsDiesel.rolling(window=12).mean()\r\n",
    "deMovil = tsDiesel.rolling(window=12).std()"
   ]
  },
  {
   "cell_type": "code",
   "execution_count": null,
   "metadata": {},
   "outputs": [],
   "source": [
    "original = plt.plot(tsDiesel, color=\"blue\", label=\"Original\")\r\n",
    "media = plt.plot(mediaMovil, color='red', label = 'Media Movil')\r\n",
    "ds = plt.plot(deMovil,color='black', label = 'Desviación Estándar Móvil')\r\n",
    "plt.legend(loc = 'best')\r\n",
    "plt.title('Media y desviación estándar móvil')\r\n",
    "plt.show(block=False)"
   ]
  },
  {
   "cell_type": "code",
   "execution_count": null,
   "metadata": {},
   "outputs": [],
   "source": [
    "descomposicion = seasonal_decompose(tsDiesel)\r\n",
    "descomposicion.plot()"
   ]
  },
  {
   "cell_type": "code",
   "execution_count": null,
   "metadata": {},
   "outputs": [],
   "source": [
    "tsDiesel = tsDiesel.astype({'Diesel':'float'})\r\n",
    "tsDieselLog = np.log(tsDiesel)\r\n",
    "plt.plot(tsDieselLog)"
   ]
  },
  {
   "cell_type": "code",
   "execution_count": null,
   "metadata": {},
   "outputs": [],
   "source": [
    "dfTest = adfuller(tsDiesel, autolag='AIC')\r\n",
    "salidaDf = pd.Series(dfTest[0:4], index=['Estadístico de prueba','p-value','# de retardos usados','# de observaciones usadas'])\r\n",
    "for key,value in dfTest[4].items():\r\n",
    "        salidaDf['Valor Crítico (%s)'%key] = value\r\n",
    "print(salidaDf)"
   ]
  },
  {
   "cell_type": "code",
   "execution_count": null,
   "metadata": {},
   "outputs": [],
   "source": [
    "tsDieselDiff = tsDiesel.diff()\r\n",
    "tsDieselDiff.fillna(0,inplace=True)\r\n",
    "dfTest = adfuller(tsDieselDiff)\r\n",
    "salidaDf = pd.Series(dfTest[0:4], index=['Estadístico de prueba','p-value','# de retardos usados','# de observaciones usadas'])\r\n",
    "for key,value in dfTest[4].items():\r\n",
    "        salidaDf['Critical Value (%s)'%key] = value\r\n",
    "salidaDf"
   ]
  },
  {
   "cell_type": "code",
   "execution_count": null,
   "metadata": {},
   "outputs": [],
   "source": [
    "plt.plot(tsDieselDiff)\r\n",
    "plt.title('Diferenciacion de la serie')"
   ]
  },
  {
   "cell_type": "code",
   "execution_count": null,
   "metadata": {},
   "outputs": [],
   "source": [
    "modelo111 = SARIMAX(tsDieselLog, order=(1,1,1), seasonal_order=(3,1,0,12), enforce_stationarity=False, enforce_invertibility=False)\r\n",
    "resultado_m111 = modelo111.fit()\r\n",
    "resultado_m111.summary().tables[1]"
   ]
  },
  {
   "cell_type": "code",
   "execution_count": null,
   "metadata": {},
   "outputs": [],
   "source": [
    "resultado_m111.plot_diagnostics(figsize=(18, 8))\r\n",
    "plt.show()"
   ]
  },
  {
   "cell_type": "code",
   "execution_count": null,
   "metadata": {},
   "outputs": [],
   "source": [
    "testConsumos.index[0]\r\n",
    "pred = resultado_m111.get_prediction(start=testConsumos.index[0], dynamic=False)\r\n",
    "pred_ci = pred.conf_int()\r\n",
    "consumoIndexed = consumption.set_index('Fecha')\r\n",
    "consumoIndexed = consumoIndexed['Diesel']\r\n",
    "ax = consumoIndexed['2000':].plot(label='observed')\r\n",
    "pred.predicted_mean.plot(ax=ax, label='One-step ahead Forecast', alpha=.7, figsize=(14, 4))\r\n",
    "ax.fill_between( pred_ci.iloc[:,0],\r\n",
    "                pred_ci.iloc[:,1], color='k', alpha=.2)\r\n",
    "#ax.set_xlabel('Date')\r\n",
    "#ax.set_ylabel('Retail_sold')\r\n",
    "plt.legend()\r\n",
    "plt.show()\r\n",
    "\r\n",
    "pred"
   ]
  },
  {
   "cell_type": "markdown",
   "metadata": {},
   "source": [
    "## Parte 2: LSTM"
   ]
  },
  {
   "cell_type": "code",
   "execution_count": null,
   "metadata": {},
   "outputs": [],
   "source": [
    "consumo = pd.read_excel('./CONSUMO-2022-05.xlsx', skiprows=6)\r\n",
    "consumo = consumo[['Fecha', 'Diesel']]\r\n",
    "#omitimos los datos despues del 269 ya que no aportan relevancia\r\n",
    "consumo = consumo[:269]\r\n",
    "consumo = consumo.set_index('Fecha')\r\n",
    "consumo.head()"
   ]
  },
  {
   "cell_type": "code",
   "execution_count": null,
   "metadata": {},
   "outputs": [],
   "source": [
    "plt.plot(consumo)\r\n",
    "plt.gca().set(title=\"Consumo de Diesel por mes por año\", xlabel=\"Fecha\", ylabel=\"Consumo\")\r\n",
    "plt.show()"
   ]
  },
  {
   "cell_type": "markdown",
   "metadata": {},
   "source": [
    "Estacionarizar para uso de LSTM"
   ]
  },
  {
   "cell_type": "code",
   "execution_count": null,
   "metadata": {},
   "outputs": [],
   "source": [
    "# Se calcula la media móvil y la desviación estandar móvil de los últimos 12 meses.\r\n",
    "mediaMovil = consumo.rolling(window=12).mean()\r\n",
    "deMovil = consumo.rolling(window=12).std()\r\n",
    "# Se grafican los resultados.\r\n",
    "original = plt.plot(consumo, color=\"blue\", label=\"Original\")\r\n",
    "media = plt.plot(mediaMovil, color='red', label = 'Media Movil')\r\n",
    "ds = plt.plot(deMovil,color='black', label = 'Desviación Estándar Móvil')\r\n",
    "plt.legend(loc = 'best')\r\n",
    "plt.title('Media y desviación estándar móvil')\r\n",
    "plt.show(block=False)"
   ]
  },
  {
   "cell_type": "code",
   "execution_count": null,
   "metadata": {},
   "outputs": [],
   "source": [
    "descomposicion = seasonal_decompose(consumo)\r\n",
    "descomposicion.plot()"
   ]
  },
  {
   "cell_type": "markdown",
   "metadata": {},
   "source": [
    "Existe tendencia"
   ]
  },
  {
   "cell_type": "code",
   "execution_count": null,
   "metadata": {},
   "outputs": [],
   "source": [
    "print('Resultados del Test de Dickey Fuller')\r\n",
    "dfTest = adfuller(consumo, autolag='AIC')\r\n",
    "salidaDf = pd.Series(dfTest[0:4], index=['Estadístico de prueba','p-value','# de retardos usados','# de observaciones usadas'])\r\n",
    "for key,value in dfTest[4].items():\r\n",
    "        salidaDf['Critical Value (%s)'%key] = value\r\n",
    "print(salidaDf)"
   ]
  },
  {
   "cell_type": "code",
   "execution_count": null,
   "metadata": {},
   "outputs": [],
   "source": [
    "print('Resultados del Test de Dickey Fuller para una diferenciación de la serie')\r\n",
    "diesel_diff = consumo.diff()\r\n",
    "diesel_diff.fillna(0,inplace=True)\r\n",
    "dfTest = adfuller(diesel_diff)\r\n",
    "salidaDf = pd.Series(dfTest[0:4], index=['Estadístico de prueba','p-value','# de retardos usados','# de observaciones usadas'])\r\n",
    "for key,value in dfTest[4].items():\r\n",
    "        salidaDf['Critical Value (%s)'%key] = value\r\n",
    "print(salidaDf)"
   ]
  },
  {
   "cell_type": "code",
   "execution_count": null,
   "metadata": {},
   "outputs": [],
   "source": [
    "plt.plot(diesel_diff)"
   ]
  },
  {
   "cell_type": "markdown",
   "metadata": {},
   "source": [
    "Necesidad de diferenciacion"
   ]
  },
  {
   "cell_type": "code",
   "execution_count": null,
   "metadata": {},
   "outputs": [],
   "source": [
    "scaler = StandardScaler()\r\n",
    "diesel_scaled = scaler.fit_transform(diesel_diff) \r\n",
    "diesel_scaled[1:7]"
   ]
  },
  {
   "cell_type": "markdown",
   "metadata": {},
   "source": [
    "60% entrenamiento, 20% validacion y prueba"
   ]
  },
  {
   "cell_type": "code",
   "execution_count": null,
   "metadata": {},
   "outputs": [],
   "source": [
    "train_diesel = round(0.6*len(diesel_scaled))\r\n",
    "val_test_diesel = round(0.2*len(diesel_scaled))\r\n",
    "test = diesel_scaled[(train_diesel + val_test_diesel) - 1:]\r\n",
    "validation = diesel_scaled[(train_diesel):train_diesel + val_test_diesel + 1]\r\n",
    "train = diesel_scaled[0:train_diesel]\r\n",
    "train = np.insert(train, 0, 0)\r\n",
    "train = np.reshape(train, (train.shape[0], 1))"
   ]
  },
  {
   "cell_type": "markdown",
   "metadata": {},
   "source": [
    "Transformacion a serie supervisada"
   ]
  },
  {
   "cell_type": "code",
   "execution_count": null,
   "metadata": {},
   "outputs": [],
   "source": [
    "from operator import concat\r\n",
    "\r\n",
    "\r\n",
    "def supervisada(serie,retrasos = 1):\r\n",
    "    serie_x = []\r\n",
    "    serie_y = []\r\n",
    "    for i in range(len(serie)-retrasos):\r\n",
    "        valor = serie[i:(i+retrasos),0]\r\n",
    "        valor_sig = serie[i+retrasos,0]\r\n",
    "        serie_x.append(valor)\r\n",
    "        serie_y.append(valor_sig)\r\n",
    "    return np.array(serie_x), np.array(serie_y)\r\n",
    "\r\n",
    "x_train,y_train = supervisada(train)\r\n",
    "x_val,y_val = supervisada(validation)\r\n",
    "x_test,y_test = supervisada(test)"
   ]
  },
  {
   "cell_type": "markdown",
   "metadata": {},
   "source": [
    "#### Creacion de modelo"
   ]
  },
  {
   "cell_type": "markdown",
   "metadata": {},
   "source": [
    "##### Modelo 1"
   ]
  },
  {
   "cell_type": "markdown",
   "metadata": {},
   "source": [
    "Matrices de 3 dimensiones"
   ]
  },
  {
   "cell_type": "code",
   "execution_count": null,
   "metadata": {},
   "outputs": [],
   "source": [
    "x_train = np.reshape(x_train,(x_train.shape[0],1,1))\r\n",
    "x_val = np.reshape(x_val, (x_val.shape[0],1,1))\r\n",
    "x_test = np.reshape(x_test, (x_test.shape[0],1,1))"
   ]
  },
  {
   "cell_type": "markdown",
   "metadata": {},
   "source": [
    "Modelo con una capa LSTM"
   ]
  },
  {
   "cell_type": "code",
   "execution_count": null,
   "metadata": {},
   "outputs": [],
   "source": [
    "modelo1 = Sequential()\r\n",
    "lote = 1\r\n",
    "unidades =  1\r\n",
    "paso = 1\r\n",
    "caracteristicas = 1 #es univariada\r\n",
    "modelo1.add(LSTM(lote, batch_input_shape=(lote,paso,caracteristicas),stateful=True))\r\n",
    "modelo1.add(Dense(1))\r\n",
    "modelo1.summary()"
   ]
  },
  {
   "cell_type": "code",
   "execution_count": null,
   "metadata": {},
   "outputs": [],
   "source": [
    "modelo1.compile(loss='mean_squared_error',optimizer=\"rmsprop\")"
   ]
  },
  {
   "cell_type": "markdown",
   "metadata": {},
   "source": [
    "Entrenamiento"
   ]
  },
  {
   "cell_type": "code",
   "execution_count": null,
   "metadata": {},
   "outputs": [],
   "source": [
    "epocas = 50\r\n",
    "history= modelo1.fit(\r\n",
    "    x = x_train,\r\n",
    "    y = y_train,\r\n",
    "    batch_size = lote,\r\n",
    "    epochs = epocas,\r\n",
    "    shuffle = False,\r\n",
    "    validation_data = (x_val,y_val),\r\n",
    "    verbose=1\r\n",
    ")"
   ]
  },
  {
   "cell_type": "code",
   "execution_count": null,
   "metadata": {},
   "outputs": [],
   "source": [
    "plt.plot(history.history['loss'])\r\n",
    "plt.plot(history.history['val_loss'])\r\n",
    "plt.title('model loss')\r\n",
    "plt.ylabel('loss')\r\n",
    "plt.xlabel('epoch')\r\n",
    "plt.legend(['train', 'val'], loc='center')"
   ]
  },
  {
   "cell_type": "code",
   "execution_count": null,
   "metadata": {},
   "outputs": [],
   "source": [
    "print(\"Pérdida en Entrenamiento\")\r\n",
    "modelo1.evaluate(\r\n",
    "    x = x_train,\r\n",
    "    y = y_train\r\n",
    ")\r\n",
    "print(\"Pérdida en Validación\")\r\n",
    "modelo1.evaluate(\r\n",
    "    x = x_val,\r\n",
    "    y = y_val\r\n",
    ")\r\n",
    "print(\"Pérdida en Prueba\")\r\n",
    "modelo1.evaluate(\r\n",
    "    x = x_test,\r\n",
    "    y = y_test\r\n",
    ")"
   ]
  },
  {
   "cell_type": "markdown",
   "metadata": {},
   "source": [
    "Prediccion modelo 1"
   ]
  },
  {
   "cell_type": "code",
   "execution_count": null,
   "metadata": {},
   "outputs": [],
   "source": [
    "prediccion_val = []\r\n",
    "\r\n",
    "def prediccion_fun(data,modelo, batch_size,scaler,dif=False,dif_cant=1, Series = None , n=1):\r\n",
    "    prediccion = [0]* (len(data))\r\n",
    "    i=0\r\n",
    "    for X in data:\r\n",
    "        X = np.reshape(X,(1,1,1))\r\n",
    "        yhat = modelo1.predict(X, batch_size=batch_size,verbose=0)\r\n",
    "        # invert scaling\r\n",
    "        yhat = scaler.inverse_transform(yhat)\r\n",
    "        if dif:\r\n",
    "             # invert differencing\r\n",
    "            yhat  = yhat + Series[(n+dif_cant*i)]\r\n",
    "        # store\r\n",
    "        prediccion[i]=yhat[0][0]\r\n",
    "        i = i+1\r\n",
    "    return prediccion\r\n",
    "prediccion_val = prediccion_fun(x_val,modelo1, 1,scaler,dif=True,dif_cant=1, Series = consumo.values , n=train_diesel)\r\n",
    "prediccion_test = prediccion_fun(x_test,modelo1, 1,scaler,dif=True,dif_cant=1, Series = consumo.values , n=train_diesel+val_test_diesel)\r\n"
   ]
  },
  {
   "cell_type": "code",
   "execution_count": null,
   "metadata": {},
   "outputs": [],
   "source": [
    "df_val = pd.DataFrame(prediccion_val,index=consumo[(train_diesel):train_diesel+val_test_diesel].index)\r\n",
    "df_test = pd.DataFrame(prediccion_test,index=consumo[train_diesel+len(df_val):len(consumo)].index)\r\n",
    "\r\n",
    "\r\n",
    "plt.plot(consumo)\r\n",
    "plt.plot(df_val)\r\n",
    "plt.plot(df_test)"
   ]
  },
  {
   "cell_type": "markdown",
   "metadata": {},
   "source": [
    "##### Modelo 2"
   ]
  },
  {
   "cell_type": "markdown",
   "metadata": {},
   "source": [
    "Para el modelo 2, las unidades cambiaran"
   ]
  },
  {
   "cell_type": "code",
   "execution_count": null,
   "metadata": {},
   "outputs": [],
   "source": [
    "modelo2 = Sequential()\r\n",
    "lote = 1\r\n",
    "unidades =  5\r\n",
    "paso = 1\r\n",
    "caracteristicas = 1 #es univariada\r\n",
    "modelo2.add(LSTM(lote, batch_input_shape=(lote,paso,caracteristicas),stateful=True))\r\n",
    "modelo2.add(Dense(1))\r\n",
    "modelo2.summary()"
   ]
  },
  {
   "cell_type": "code",
   "execution_count": null,
   "metadata": {},
   "outputs": [],
   "source": [
    "modelo2.compile(loss='mean_squared_error',optimizer=\"rmsprop\")"
   ]
  },
  {
   "cell_type": "code",
   "execution_count": null,
   "metadata": {},
   "outputs": [],
   "source": [
    "epocas = 50\r\n",
    "history= modelo2.fit(\r\n",
    "    x = x_train,\r\n",
    "    y = y_train,\r\n",
    "    batch_size = lote,\r\n",
    "    epochs = epocas,\r\n",
    "    shuffle = False,\r\n",
    "    validation_data = (x_val,y_val),\r\n",
    "    verbose=1\r\n",
    ")"
   ]
  },
  {
   "cell_type": "code",
   "execution_count": null,
   "metadata": {},
   "outputs": [],
   "source": [
    "plt.plot(history.history['loss'])\r\n",
    "plt.plot(history.history['val_loss'])\r\n",
    "plt.title('model loss')\r\n",
    "plt.ylabel('loss')\r\n",
    "plt.xlabel('epoch')\r\n",
    "plt.legend(['train', 'val'], loc='center')"
   ]
  },
  {
   "cell_type": "code",
   "execution_count": null,
   "metadata": {},
   "outputs": [],
   "source": [
    "print(\"Pérdida en Entrenamiento\")\r\n",
    "modelo2.evaluate(\r\n",
    "    x = x_train,\r\n",
    "    y = y_train\r\n",
    ")\r\n",
    "print(\"Pérdida en Validación\")\r\n",
    "modelo2.evaluate(\r\n",
    "    x = x_val,\r\n",
    "    y = y_val\r\n",
    ")\r\n",
    "print(\"Pérdida en Prueba\")\r\n",
    "modelo2.evaluate(\r\n",
    "    x = x_test,\r\n",
    "    y = y_test\r\n",
    ")"
   ]
  },
  {
   "cell_type": "code",
   "execution_count": null,
   "metadata": {},
   "outputs": [],
   "source": [
    "prediccion_val = []\r\n",
    "\r\n",
    "def prediccion_fun(data,modelo, batch_size,scaler,dif=False,dif_cant=1, Series = None , n=1):\r\n",
    "    prediccion = [0]* (len(data))\r\n",
    "    i=0\r\n",
    "    for X in data:\r\n",
    "        X = np.reshape(X,(1,1,1))\r\n",
    "        yhat = modelo1.predict(X, batch_size=batch_size,verbose=0)\r\n",
    "        # invert scaling\r\n",
    "        yhat = scaler.inverse_transform(yhat)\r\n",
    "        if dif:\r\n",
    "             # invert differencing\r\n",
    "            yhat  = yhat + Series[(n+dif_cant*i)]\r\n",
    "        # store\r\n",
    "        prediccion[i]=yhat[0][0]\r\n",
    "        i = i+1\r\n",
    "    return prediccion\r\n",
    "prediccion_val = prediccion_fun(x_val,modelo1, 1,scaler,dif=True,dif_cant=1, Series = consumo.values , n=train_diesel)\r\n",
    "prediccion_test = prediccion_fun(x_test,modelo1, 1,scaler,dif=True,dif_cant=1, Series = consumo.values , n=train_diesel+val_test_diesel)\r\n"
   ]
  },
  {
   "cell_type": "code",
   "execution_count": null,
   "metadata": {},
   "outputs": [],
   "source": [
    "df_val = pd.DataFrame(prediccion_val,index=consumo[(train_diesel):train_diesel+val_test_diesel].index)\r\n",
    "df_test = pd.DataFrame(prediccion_test,index=consumo[train_diesel+len(df_val):len(consumo)].index)\r\n",
    "\r\n",
    "\r\n",
    "plt.plot(consumo)\r\n",
    "plt.plot(df_val)\r\n",
    "plt.plot(df_test)\r\n",
    "\r\n"
   ]
  }
 ],
 "metadata": {
  "kernelspec": {
   "display_name": "Python 3.10.5 64-bit",
   "language": "python",
   "name": "python3"
  },
  "language_info": {
   "name": "python",
   "version": "3.10.5"
  },
  "orig_nbformat": 4,
  "vscode": {
   "interpreter": {
    "hash": "a1fbb46e97979fe274de0b1708aa8583f7166e6b85cafc938966f13b05b745da"
   }
  }
 },
 "nbformat": 4,
 "nbformat_minor": 2
}